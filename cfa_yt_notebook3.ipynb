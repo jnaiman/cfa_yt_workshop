{
 "cells": [
  {
   "cell_type": "markdown",
   "metadata": {
    "deletable": true,
    "editable": true
   },
   "source": [
    "# Fields"
   ]
  },
  {
   "cell_type": "markdown",
   "metadata": {
    "deletable": true,
    "editable": true
   },
   "source": [
    "We have been working with fields in the previous examples already. Now let's take a deeper look at fields in yt, how they are handled, and how to define your own derived fields. "
   ]
  },
  {
   "cell_type": "code",
   "execution_count": null,
   "metadata": {
    "collapsed": true,
    "deletable": true,
    "editable": true
   },
   "outputs": [],
   "source": [
    "import yt\n",
    "import numpy as np"
   ]
  },
  {
   "cell_type": "code",
   "execution_count": null,
   "metadata": {
    "collapsed": false,
    "deletable": true,
    "editable": true
   },
   "outputs": [],
   "source": [
    "ds = yt.load(\"snapshot_033/snap_033.0.hdf5\")"
   ]
  },
  {
   "cell_type": "markdown",
   "metadata": {
    "collapsed": true,
    "deletable": true,
    "editable": true
   },
   "source": [
    "We are first interested in what kinds of \"fields\" are intrinsic to the dataset. We can list them using `ds.field_list`:"
   ]
  },
  {
   "cell_type": "code",
   "execution_count": null,
   "metadata": {
    "collapsed": false,
    "deletable": true,
    "editable": true
   },
   "outputs": [],
   "source": [
    "ds.field_list"
   ]
  },
  {
   "cell_type": "markdown",
   "metadata": {
    "deletable": true,
    "editable": true
   },
   "source": [
    "We also mentioned \"derived\" fields earlier. We can see which derived fields are available using `ds.derived_field_list`:"
   ]
  },
  {
   "cell_type": "code",
   "execution_count": null,
   "metadata": {
    "collapsed": false,
    "deletable": true,
    "editable": true,
    "scrolled": false
   },
   "outputs": [],
   "source": [
    "ds.derived_field_list"
   ]
  },
  {
   "cell_type": "markdown",
   "metadata": {
    "deletable": true,
    "editable": true
   },
   "source": [
    "Notice that the fields that are in the dataset are part of the derived field list as well--reflecting yt's philosophy on fields."
   ]
  },
  {
   "cell_type": "markdown",
   "metadata": {
    "collapsed": true,
    "deletable": true,
    "editable": true
   },
   "source": [
    "You can examine various aspects of all fields using the `ds.fields` syntax:"
   ]
  },
  {
   "cell_type": "code",
   "execution_count": null,
   "metadata": {
    "collapsed": false,
    "deletable": true,
    "editable": true
   },
   "outputs": [],
   "source": [
    "ds.fields.gas.entropy"
   ]
  },
  {
   "cell_type": "code",
   "execution_count": null,
   "metadata": {
    "collapsed": false,
    "deletable": true,
    "editable": true
   },
   "outputs": [],
   "source": [
    "ds.fields.gas.entropy.get_label()"
   ]
  },
  {
   "cell_type": "code",
   "execution_count": null,
   "metadata": {
    "collapsed": false,
    "deletable": true,
    "editable": true
   },
   "outputs": [],
   "source": [
    "ds.fields.gas.entropy.get_units()"
   ]
  },
  {
   "cell_type": "code",
   "execution_count": null,
   "metadata": {
    "collapsed": false,
    "deletable": true,
    "editable": true
   },
   "outputs": [],
   "source": [
    "print(ds.fields.gas.entropy.get_source())"
   ]
  },
  {
   "cell_type": "markdown",
   "metadata": {
    "deletable": true,
    "editable": true
   },
   "source": [
    "## Types of Fields"
   ]
  },
  {
   "cell_type": "markdown",
   "metadata": {
    "deletable": true,
    "editable": true
   },
   "source": [
    "* Mesh Fields: These are fields defined on the mesh. In mesh-based datasets this is self-explanatory, but in particle and octree-based datasets this is the octree. In the case of particle datasets, mesh fields have been smoothed from the particles onto the mesh using an interpolation scheme (the standard SPH smoothing kernel, usually). The field type is typically `\"gas\"`, but fields belonging to a particular type of dataset have their own field types. \n",
    "* Particle Fields: Mesh codes can have particles (FLASH, Enzo, etc.), and of course other codes (e.g. Gadget and its derivatives) are purely particle-based.\n",
    "* Index Fields: These are fields for coordinates, cell widths, cell volumes, etc. \n",
    "* Deposit Fields: Deposit fields are fields that have been mapped onto the mesh from particles. "
   ]
  },
  {
   "cell_type": "markdown",
   "metadata": {
    "deletable": true,
    "editable": true
   },
   "source": [
    "## Creating Your Own Derived Fields"
   ]
  },
  {
   "cell_type": "markdown",
   "metadata": {
    "deletable": true,
    "editable": true
   },
   "source": [
    "yt has lots of fields, but undoubtedly you have some fields of your own that you may want to analyze and visualize. yt provides a way for you create your own fields. "
   ]
  },
  {
   "cell_type": "markdown",
   "metadata": {
    "deletable": true,
    "editable": true
   },
   "source": [
    "Let's define a derived field for free-free emission in X-rays. It has this formula (Equation 5.15b from Rybicki and Lightman 1979):\n",
    "\n",
    "$\\epsilon_{\\rm ff}~({\\rm erg}~{\\rm cm}^{-3}) = 1.4 \\times 10^{-27}T^{1/2}n_en_iZ^2\\bar{g}_B$\n",
    "\n",
    "First, we need to set up a Python function which will set up this mathematical relationship. Let's define and import some constants that we'll need:"
   ]
  },
  {
   "cell_type": "code",
   "execution_count": null,
   "metadata": {
    "collapsed": true,
    "deletable": true,
    "editable": true
   },
   "outputs": [],
   "source": [
    "# Assuming full ionization\n",
    "mue = 1.136\n",
    "mui = 1.22\n",
    "from yt.units import mp\n",
    "g_B = 1.2 # Approximate Gaunt factor\n",
    "Z = 1.111 # Approximate atomic number"
   ]
  },
  {
   "cell_type": "markdown",
   "metadata": {
    "deletable": true,
    "editable": true
   },
   "source": [
    "Next, we'll set up the Python function. Because the function for free-free emission has some numerical factors, it's easiest in this case to strip the units during the calculation using `.v` and `.d` and add them back at the end using `data.ds.arr`:"
   ]
  },
  {
   "cell_type": "code",
   "execution_count": null,
   "metadata": {
    "collapsed": false,
    "deletable": true,
    "editable": true
   },
   "outputs": [],
   "source": [
    "def _free_free(field, data):\n",
    "    n_e = data[\"gas\", \"density\"].d/(mue*mp.v)\n",
    "    n_i = data[\"gas\", \"density\"].d/(mui*mp.v)\n",
    "    T = data[\"gas\", \"temperature\"].d\n",
    "    return data.ds.arr(1.4e-27*np.sqrt(T)*n_e*n_i*Z*Z, \"erg/cm**3\")"
   ]
  },
  {
   "cell_type": "markdown",
   "metadata": {
    "deletable": true,
    "editable": true
   },
   "source": [
    "Finally, we use the function `ds.add_field()` to add the field definition to the fields that the dataset knows about. We have to give it a `(type, name)` specification, supply the function, and the units:"
   ]
  },
  {
   "cell_type": "code",
   "execution_count": null,
   "metadata": {
    "collapsed": false,
    "deletable": true,
    "editable": true
   },
   "outputs": [],
   "source": [
    "ds.add_field((\"gas\", \"free_free_emission\"), function=_free_free, units=\"erg/cm**3\")"
   ]
  },
  {
   "cell_type": "markdown",
   "metadata": {
    "deletable": true,
    "editable": true
   },
   "source": [
    "Now that we have created this field, we can use it in exactly the same way as any other:"
   ]
  },
  {
   "cell_type": "code",
   "execution_count": null,
   "metadata": {
    "collapsed": false,
    "deletable": true,
    "editable": true
   },
   "outputs": [],
   "source": [
    "sp = ds.sphere(\"max\", (1.0, \"Mpc\"))"
   ]
  },
  {
   "cell_type": "code",
   "execution_count": null,
   "metadata": {
    "collapsed": false,
    "deletable": true,
    "editable": true
   },
   "outputs": [],
   "source": [
    "sp.mean(\"free_free_emission\")"
   ]
  },
  {
   "cell_type": "code",
   "execution_count": null,
   "metadata": {
    "collapsed": false,
    "deletable": true,
    "editable": true
   },
   "outputs": [],
   "source": [
    "proj = sp.integrate(\"free_free_emission\", axis=\"x\")"
   ]
  },
  {
   "cell_type": "code",
   "execution_count": null,
   "metadata": {
    "collapsed": false,
    "deletable": true,
    "editable": true
   },
   "outputs": [],
   "source": [
    "p = proj.plot()"
   ]
  },
  {
   "cell_type": "code",
   "execution_count": null,
   "metadata": {
    "collapsed": false,
    "deletable": true,
    "editable": true,
    "scrolled": false
   },
   "outputs": [],
   "source": [
    "p.set_center([12.2132301330566406,9.3899726867675781])\n",
    "p.zoom(128)"
   ]
  }
 ],
 "metadata": {
  "kernelspec": {
   "display_name": "Python 3",
   "language": "python",
   "name": "python3"
  },
  "language_info": {
   "codemirror_mode": {
    "name": "ipython",
    "version": 3
   },
   "file_extension": ".py",
   "mimetype": "text/x-python",
   "name": "python",
   "nbconvert_exporter": "python",
   "pygments_lexer": "ipython3",
   "version": "3.6.0"
  }
 },
 "nbformat": 4,
 "nbformat_minor": 2
}
