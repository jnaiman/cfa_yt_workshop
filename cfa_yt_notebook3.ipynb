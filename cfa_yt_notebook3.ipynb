{
 "cells": [
  {
   "cell_type": "code",
   "execution_count": 1,
   "metadata": {
    "collapsed": true
   },
   "outputs": [],
   "source": [
    "import yt"
   ]
  },
  {
   "cell_type": "code",
   "execution_count": null,
   "metadata": {
    "collapsed": true
   },
   "outputs": [],
   "source": [
    "from yt.units import mp\n",
    "import numpy as np\n",
    "\n",
    "def _sound_speed(field, data):\n",
    "    return np.sqrt(5./3.*data['kT']/(0.6*mp))\n",
    "\n",
    "def _mach_number(field, data):\n",
    "    return data[\"velocity_magnitude\"]/data[\"speed_of_sound\"]\n",
    "\n",
    "ds2.add_field(('gas', 'speed_of_sound'), _sound_speed, units='cm/s', force_override=True)\n",
    "ds2.add_field(('gas', 'mach'), _mach_number, units='', force_override=True)"
   ]
  },
  {
   "cell_type": "code",
   "execution_count": null,
   "metadata": {
    "collapsed": true
   },
   "outputs": [],
   "source": [
    "slc = yt.SlicePlot(ds2, 'z', [\"speed_of_sound\"], width=(200., 'kpc'))\n",
    "slc.set_unit('speed_of_sound', 'km/s')\n",
    "slc.set_log('speed_of_sound', False)\n",
    "slc.set_zlim('speed_of_sound', 600., 1000.)"
   ]
  },
  {
   "cell_type": "code",
   "execution_count": null,
   "metadata": {
    "collapsed": true
   },
   "outputs": [],
   "source": [
    "slc = yt.SlicePlot(ds2, 'z', [\"mach\"], width=(200., 'kpc'))\n",
    "slc.set_log('mach', False)\n",
    "slc.set_zlim('mach', 0.1, 0.8)"
   ]
  },
  {
   "cell_type": "code",
   "execution_count": null,
   "metadata": {
    "collapsed": true
   },
   "outputs": [],
   "source": [
    "ProjectionPlot(ds2, 'z', 'density', width=(500, 'kpc'), method='mip')"
   ]
  },
  {
   "cell_type": "markdown",
   "metadata": {},
   "source": [
    "## NumPy-like syntax and plotting"
   ]
  },
  {
   "cell_type": "code",
   "execution_count": null,
   "metadata": {
    "collapsed": true
   },
   "outputs": [],
   "source": [
    "slc = ds.r[0.5,:,:] # slicing through the middle of the domain"
   ]
  },
  {
   "cell_type": "code",
   "execution_count": null,
   "metadata": {
    "collapsed": true
   },
   "outputs": [],
   "source": [
    "p = slc.plot(\"density\")"
   ]
  },
  {
   "cell_type": "code",
   "execution_count": null,
   "metadata": {
    "collapsed": true
   },
   "outputs": [],
   "source": [
    "d_m = ds.r[:,0.25:0.75,0.25:0.75].integrate('density', axis='x')"
   ]
  },
  {
   "cell_type": "code",
   "execution_count": null,
   "metadata": {
    "collapsed": true
   },
   "outputs": [],
   "source": [
    "p_d = d_m.plot()"
   ]
  },
  {
   "cell_type": "code",
   "execution_count": null,
   "metadata": {
    "collapsed": true
   },
   "outputs": [],
   "source": [
    "kT_m = ds.r[:,0.25:0.75,0.25:0.75].mean(\"kT\", axis=\"x\", weight=\"density\")"
   ]
  },
  {
   "cell_type": "code",
   "execution_count": null,
   "metadata": {
    "collapsed": true
   },
   "outputs": [],
   "source": [
    "p_kT = kT_m.plot()"
   ]
  }
 ],
 "metadata": {
  "kernelspec": {
   "display_name": "Python 3",
   "language": "python",
   "name": "python3"
  },
  "language_info": {
   "codemirror_mode": {
    "name": "ipython",
    "version": 3
   },
   "file_extension": ".py",
   "mimetype": "text/x-python",
   "name": "python",
   "nbconvert_exporter": "python",
   "pygments_lexer": "ipython3",
   "version": "3.6.0"
  }
 },
 "nbformat": 4,
 "nbformat_minor": 2
}
