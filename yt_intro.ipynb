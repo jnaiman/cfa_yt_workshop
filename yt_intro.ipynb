{
 "cells": [
  {
   "cell_type": "markdown",
   "metadata": {
    "deletable": true,
    "editable": true,
    "slideshow": {
     "slide_type": "slide"
    }
   },
   "source": [
    "# yt: A Python-based Framework for Visualization and Analysis of Physical Simulations\n",
    "\n",
    "### John ZuHone\n",
    "### Harvard-Smithsonian Center for Astrophysics\n",
    "\n",
    "<img src=\"images/yt_logo.svg\", width=300>"
   ]
  },
  {
   "cell_type": "markdown",
   "metadata": {
    "deletable": true,
    "editable": true,
    "slideshow": {
     "slide_type": "slide"
    }
   },
   "source": [
    "This presentaion is available at the following URL as slides and a Jupyter notebook at the following URLs:\n",
    "\n",
    "http://yt-project.org/pitp2016_demo/yt_tutorial.slides.html\n",
    "\n",
    "http://yt-project.org/pitp2016_demo/yt_tutorial.ipynb\n",
    "\n",
    "The data I use in this presentation are available at the following URL:\n",
    "\n",
    "http://yt-project.org/pitp2016_demo/data\n",
    "\n",
    "The example notebooks I'll be working through in a focus session are available here:\n",
    "\n",
    "http://yt-project.org/pitp2016_demo/examples"
   ]
  },
  {
   "cell_type": "markdown",
   "metadata": {
    "deletable": true,
    "editable": true,
    "slideshow": {
     "slide_type": "slide"
    }
   },
   "source": [
    "# yt is a framework for working with the outputs of simulation codes"
   ]
  },
  {
   "cell_type": "markdown",
   "metadata": {
    "deletable": true,
    "editable": true,
    "slideshow": {
     "slide_type": "fragment"
    }
   },
   "source": [
    "### visualization \n",
    "\n",
    "* slices\n",
    "* projections\n",
    "* volume rendering\n",
    "* phase diagrams"
   ]
  },
  {
   "cell_type": "markdown",
   "metadata": {
    "deletable": true,
    "editable": true,
    "slideshow": {
     "slide_type": "fragment"
    }
   },
   "source": [
    "### analysis \n",
    "\n",
    "* data selection and derived quantities\n",
    "* low-level data inspection\n",
    "* profiling (how does a quantity vary with radius? density?)\n",
    "* and much more..."
   ]
  },
  {
   "cell_type": "markdown",
   "metadata": {
    "deletable": true,
    "editable": true,
    "slideshow": {
     "slide_type": "slide"
    }
   },
   "source": [
    "## yt supports many production astrophysical simulation codes\n",
    "\n",
    "* SPH (Gadget, Gasoline, Tipsy, ...)\n",
    "* Patch AMR (Enzo, Athena, Chombo, ...)\n",
    "* Octree AMR (FLASH, ART, ...)\n",
    "* Unstructured Mesh (Moab, Exodus II, ...)"
   ]
  },
  {
   "cell_type": "markdown",
   "metadata": {
    "deletable": true,
    "editable": true,
    "slideshow": {
     "slide_type": "slide"
    }
   },
   "source": [
    "## yt runs on a variety of platforms\n",
    "\n",
    "* Operating systems: Linux, macOS, Windows (including the new Bash on Windows!)\n",
    "* Runs on everything from laptops (e.g., this one) to supercomputers (e.g., NASA's Pleiades)\n",
    "* Currently runs in Python 2.7 and 3.5\n",
    "* Source installs and binaries are available"
   ]
  },
  {
   "cell_type": "markdown",
   "metadata": {
    "deletable": true,
    "editable": true,
    "slideshow": {
     "slide_type": "slide"
    }
   },
   "source": [
    "### Developed by a global team of astrophysics researchers to solve their real-world problems.\n",
    "\n",
    "<div style=\"font-size:70%;margin-top:50px\">\n",
    "<table>  <tr><td>Tom Abel\n",
    "    </td><td>Andrew Cunningham\n",
    "    </td><td><b>Cameron Hummels</b>\n",
    "    </td><td>Michael Kuhlen\n",
    "    </td><td>Desika Narayanan\n",
    "    </td><td>Hsi-Yu Schive\n",
    "    </td><td>Ting-Wai To\n",
    "  </td></tr>  <tr><td>Gabriel Altay\n",
    "    </td><td><b>Bili Dong</b>\n",
    "    </td><td><b>Suoqing Ji</b>\n",
    "    </td><td>Meagan Lang\n",
    "    </td><td>Kaylea Nelson\n",
    "    </td><td><b>Anthony Scopatz</b>\n",
    "    </td><td>Joseph Tomlinson\n",
    "  </td></tr>  <tr><td><b>Kenza Arraki</b>\n",
    "    </td><td>Nicholas Earl\n",
    "    </td><td><b>Allyson Julian</b>\n",
    "    </td><td>Eve Lee\n",
    "    </td><td><b>Brian O'Shea</b>\n",
    "    </td><td>Noel Scudder\n",
    "    </td><td>Stephanie Tonnesen\n",
    "  </td></tr>  <tr><td>Kirk Barrow\n",
    "    </td><td><b>Hilary Egan</b>\n",
    "    </td><td>Anni Järvenpää\n",
    "    </td><td>Doris Lee\n",
    "    </td><td><b>J.S. Oishi</b>\n",
    "    </td><td><b>Sam Skillman</b>\n",
    "    </td><td><b>Matthew Turk</b>\n",
    "  </td></tr>  <tr><td>Ricarda Beckmann\n",
    "    </td><td>Rasmi Elasmar\n",
    "    </td><td>Christian Karch\n",
    "    </td><td><b>Sam Leitner</b>\n",
    "    </td><td>JC Passy\n",
    "    </td><td><b>Stephen Skory</b>\n",
    "    </td><td><b>Casey W. Stark</b>\n",
    "  </td></tr>  <tr><td>Elliott Biondo\n",
    "    </td><td>Daniel Fenn\n",
    "    </td><td>Max Katz\n",
    "    </td><td>Stuart Levy\n",
    "    </td><td>John Regan\n",
    "    </td><td>Aaron Smith\n",
    "    </td><td>Miguel de Val-Borro\n",
    "  </td></tr>  <tr><td>Alex Bogert\n",
    "    </td><td>John Forbes\n",
    "    </td><td><b>BW Keller</b>\n",
    "    </td><td>Yuan Li\n",
    "    </td><td>Mark Richardson\n",
    "    </td><td><b>Britton Smith</b>\n",
    "    </td><td>Rick Wagner\n",
    "  </td></tr>  <tr><td>Robert Bradshaw\n",
    "    </td><td>Sam Geen\n",
    "    </td><td>Ji-hoon Kim\n",
    "    </td><td>Joshua Moloney\n",
    "    </td><td>Sherwood Richers\n",
    "    </td><td>Geoffrey So\n",
    "    </td><td>Mike Warren\n",
    "  </td></tr>  <tr><td>Yi-Hao Chen\n",
    "    </td><td>Adam Ginsburg\n",
    "    </td><td>Steffen Klemer\n",
    "    </td><td><b>Christopher Moody</b>\n",
    "    </td><td>Thomas Robitaille\n",
    "    </td><td>Antoine Strugarek\n",
    "    </td><td>Andrew Wetzel\n",
    "  </td></tr>  <tr><td>Pengfei Chen\n",
    "    </td><td><b>Nathan Goldbaum</b>\n",
    "    </td><td>Fabian Koller\n",
    "    </td><td>Stuart Mumford\n",
    "    </td><td>Anna Rosen\n",
    "    </td><td>Elizabeth Tasker\n",
    "    </td><td><b>John Wise</b>\n",
    "  </td></tr>  <tr><td>David Collins\n",
    "    </td><td>Eric Hallman\n",
    "    </td><td><b>Kacper Kowalik</b>\n",
    "    </td><td><b>Andrew Myers</b>\n",
    "    </td><td>Chuck Rozhon\n",
    "    </td><td>Benjamin Thompson\n",
    "    </td><td><b>Michael Zingale</b>\n",
    "  </td></tr>  <tr><td><b>Brian Crosby</b>\n",
    "    </td><td>David Hannasch\n",
    "    </td><td>Mark Krumholz\n",
    "    </td><td><b>Jill Naiman</b>\n",
    "    </td><td><b>Douglas Rudd</b>\n",
    "    </td><td>Robert Thompson\n",
    "    </td><td><b>John ZuHone</b>  </td></tr></table>\n",
    "</div>"
   ]
  },
  {
   "cell_type": "code",
   "execution_count": null,
   "metadata": {
    "collapsed": false,
    "deletable": true,
    "editable": true,
    "scrolled": false,
    "slideshow": {
     "slide_type": "slide"
    }
   },
   "outputs": [],
   "source": [
    "from __future__ import print_function\n",
    "import warnings\n",
    "warnings.filterwarnings('ignore')\n",
    "from IPython.display import IFrame\n",
    "\n",
    "IFrame('http://yt-project.org/docs/dev/reference/code_support.html', width=960, height=600)"
   ]
  },
  {
   "cell_type": "markdown",
   "metadata": {
    "deletable": true,
    "editable": true,
    "slideshow": {
     "slide_type": "slide"
    }
   },
   "source": [
    "## Sample datasets loadable by yt"
   ]
  },
  {
   "cell_type": "code",
   "execution_count": null,
   "metadata": {
    "collapsed": false,
    "deletable": true,
    "editable": true,
    "slideshow": {
     "slide_type": "-"
    }
   },
   "outputs": [],
   "source": [
    "IFrame('http://yt-project.org/data', width=700, height=500)"
   ]
  },
  {
   "cell_type": "markdown",
   "metadata": {
    "collapsed": false,
    "deletable": true,
    "editable": true,
    "slideshow": {
     "slide_type": "slide"
    }
   },
   "source": [
    "# What is yt? \n",
    "## Getting started with the Basics\n",
    "\n",
    "(slides adapted from Britton Smith's PyAstro 16 talk and a recent talk by Nathan Goldbaum at McMaster University)"
   ]
  },
  {
   "cell_type": "markdown",
   "metadata": {
    "deletable": true,
    "editable": true,
    "slideshow": {
     "slide_type": "slide"
    }
   },
   "source": [
    "### Eulerian, gridded, AMR/SMR data vs. Lagrangian, particle-based, SPH data\n",
    "<img src=\"images/amr_sample.png\", align=\"left\" width=400>\n",
    "<img src=\"images/sph_sample.png\", align=\"right\" width=400>"
   ]
  },
  {
   "cell_type": "markdown",
   "metadata": {
    "deletable": true,
    "editable": true,
    "slideshow": {
     "slide_type": "slide"
    }
   },
   "source": [
    "## Data on disk has no inherent physical meaning\n",
    "\n",
    "<img src=\"images/grid_nonphysical.png\", width='600px'>"
   ]
  },
  {
   "cell_type": "markdown",
   "metadata": {
    "deletable": true,
    "editable": true,
    "slideshow": {
     "slide_type": "slide"
    }
   },
   "source": [
    "## yt lets you think about the data using a *physically motivated interface*\n",
    "\n",
    "<img src=\"images/grid_physical_dimensions.png\", width='650px'>"
   ]
  },
  {
   "cell_type": "markdown",
   "metadata": {
    "deletable": true,
    "editable": true,
    "slideshow": {
     "slide_type": "slide"
    }
   },
   "source": [
    "## yt lets you think about the data using a *physically motivated interface*\n",
    "\n",
    "### yt's most fundamental concepts:"
   ]
  },
  {
   "cell_type": "markdown",
   "metadata": {
    "deletable": true,
    "editable": true,
    "slideshow": {
     "slide_type": "fragment"
    }
   },
   "source": [
    "* Data Objects"
   ]
  },
  {
   "cell_type": "markdown",
   "metadata": {
    "deletable": true,
    "editable": true,
    "slideshow": {
     "slide_type": "fragment"
    }
   },
   "source": [
    "* Fields"
   ]
  },
  {
   "cell_type": "markdown",
   "metadata": {
    "deletable": true,
    "editable": true,
    "slideshow": {
     "slide_type": "fragment"
    }
   },
   "source": [
    "* Units"
   ]
  },
  {
   "cell_type": "markdown",
   "metadata": {
    "deletable": true,
    "editable": true,
    "slideshow": {
     "slide_type": "fragment"
    }
   },
   "source": [
    "* Derived Quantities"
   ]
  },
  {
   "cell_type": "markdown",
   "metadata": {
    "deletable": true,
    "editable": true,
    "slideshow": {
     "slide_type": "slide"
    }
   },
   "source": [
    "## yt lets you think about the data using a *physically motivated interface*"
   ]
  },
  {
   "cell_type": "code",
   "execution_count": null,
   "metadata": {
    "collapsed": false,
    "deletable": true,
    "editable": true,
    "slideshow": {
     "slide_type": "-"
    }
   },
   "outputs": [],
   "source": [
    "import yt\n",
    "ds = yt.load(\"Enzo_64/DD0043/data0043\")"
   ]
  },
  {
   "cell_type": "markdown",
   "metadata": {
    "deletable": true,
    "editable": true,
    "slideshow": {
     "slide_type": "slide"
    }
   },
   "source": [
    "## Allowing you to forget about what your data looks like as a file format\n",
    "\n",
    "<img src=\"images/grid_physical_sphere.png\", width=\"650px\">"
   ]
  },
  {
   "cell_type": "markdown",
   "metadata": {
    "deletable": true,
    "editable": true,
    "slideshow": {
     "slide_type": "slide"
    }
   },
   "source": [
    "## And select only the data you want to select\n",
    "\n",
    "<img src=\"images/grid_selected_cells.png\", width='700px'>"
   ]
  },
  {
   "cell_type": "markdown",
   "metadata": {
    "deletable": true,
    "editable": true,
    "slideshow": {
     "slide_type": "slide"
    }
   },
   "source": [
    "# Data Objects\n",
    "<img src=\"images/data_containers.png\", style=\"width:60%\">"
   ]
  },
  {
   "cell_type": "markdown",
   "metadata": {
    "deletable": true,
    "editable": true,
    "slideshow": {
     "slide_type": "slide"
    }
   },
   "source": [
    "## Physical objects to select data are called \"data objects\"\n",
    "\n",
    "<img src=\"images/selected_data.png\", width='300px'>"
   ]
  },
  {
   "cell_type": "code",
   "execution_count": null,
   "metadata": {
    "collapsed": false,
    "deletable": true,
    "editable": true,
    "slideshow": {
     "slide_type": "fragment"
    }
   },
   "outputs": [],
   "source": [
    "sp = ds.sphere(\"max\", (2.0, \"Mpc\"))"
   ]
  },
  {
   "cell_type": "markdown",
   "metadata": {
    "deletable": true,
    "editable": true,
    "slideshow": {
     "slide_type": "slide"
    }
   },
   "source": [
    "## yt natively deals with multiresolution data\n",
    "\n",
    "<img src=\"images/unrolled_data.png\">"
   ]
  },
  {
   "cell_type": "markdown",
   "metadata": {
    "deletable": true,
    "editable": true,
    "slideshow": {
     "slide_type": "slide"
    }
   },
   "source": [
    "## Data from each selected cell is returned as a flat, 1D array, with unit metadata attached\n",
    "\n",
    "<img src=\"images/density_unrolled.png\">"
   ]
  },
  {
   "cell_type": "code",
   "execution_count": null,
   "metadata": {
    "collapsed": false,
    "deletable": true,
    "editable": true,
    "slideshow": {
     "slide_type": "-"
    }
   },
   "outputs": [],
   "source": [
    "print(sp['density'])"
   ]
  },
  {
   "cell_type": "markdown",
   "metadata": {
    "deletable": true,
    "editable": true,
    "slideshow": {
     "slide_type": "slide"
    }
   },
   "source": [
    "## Data objects can be queried for many fields\n",
    "\n",
    "<img src=\"images/unrolled_temperature.png\">"
   ]
  },
  {
   "cell_type": "code",
   "execution_count": null,
   "metadata": {
    "collapsed": false,
    "deletable": true,
    "editable": true,
    "slideshow": {
     "slide_type": "-"
    }
   },
   "outputs": [],
   "source": [
    "print(sp['temperature'])"
   ]
  },
  {
   "cell_type": "markdown",
   "metadata": {
    "deletable": true,
    "editable": true,
    "slideshow": {
     "slide_type": "slide"
    }
   },
   "source": [
    "# Spatial information is not lost\n",
    "\n",
    "<img src=\"images/unrolled_x.png\">"
   ]
  },
  {
   "cell_type": "code",
   "execution_count": null,
   "metadata": {
    "collapsed": false,
    "deletable": true,
    "editable": true
   },
   "outputs": [],
   "source": [
    "sp['x']"
   ]
  },
  {
   "cell_type": "code",
   "execution_count": null,
   "metadata": {
    "collapsed": false,
    "deletable": true,
    "editable": true,
    "scrolled": true,
    "slideshow": {
     "slide_type": "-"
    }
   },
   "outputs": [],
   "source": [
    "sp['x'].in_units('kpc')"
   ]
  },
  {
   "cell_type": "markdown",
   "metadata": {
    "deletable": true,
    "editable": true,
    "slideshow": {
     "slide_type": "slide"
    }
   },
   "source": [
    "# Spatial information is not lost\n",
    "\n",
    "<img src=\"images/unrolled_dx.png\">"
   ]
  },
  {
   "cell_type": "code",
   "execution_count": null,
   "metadata": {
    "collapsed": false,
    "deletable": true,
    "editable": true
   },
   "outputs": [],
   "source": [
    "import numpy as np\n",
    "\n",
    "np.unique(sp['dx']).in_units('kpc')"
   ]
  },
  {
   "cell_type": "code",
   "execution_count": null,
   "metadata": {
    "collapsed": false,
    "deletable": true,
    "editable": true,
    "slideshow": {
     "slide_type": "slide"
    }
   },
   "outputs": [],
   "source": [
    "IFrame(\"http://yt-project.org/doc/analyzing/objects.html#available-objects\", width=700, height=600)"
   ]
  },
  {
   "cell_type": "code",
   "execution_count": null,
   "metadata": {
    "collapsed": false,
    "deletable": true,
    "editable": true,
    "slideshow": {
     "slide_type": "slide"
    }
   },
   "outputs": [],
   "source": [
    "import yt.units as u\n",
    "\n",
    "ad = ds.all_data()\n",
    "\n",
    "box = ds.box(ds.domain_left_edge + 500*u.kpc, ds.domain_right_edge - 500*u.kpc)\n",
    "\n",
    "sp = ds.sphere(ds.domain_center, 500*u.kpc)\n",
    "\n",
    "disk = ds.disk(ds.domain_center, [0, 0, 1], 500*u.kpc, 100*u.kpc)\n",
    "\n",
    "ray = ds.ray(ds.domain_left_edge, ds.domain_right_edge)"
   ]
  },
  {
   "cell_type": "markdown",
   "metadata": {
    "deletable": true,
    "editable": true,
    "slideshow": {
     "slide_type": "slide"
    }
   },
   "source": [
    "# Fields"
   ]
  },
  {
   "cell_type": "markdown",
   "metadata": {
    "deletable": true,
    "editable": true,
    "slideshow": {
     "slide_type": "slide"
    }
   },
   "source": [
    "## Data objects can be queried for many fields"
   ]
  },
  {
   "cell_type": "code",
   "execution_count": null,
   "metadata": {
    "collapsed": false,
    "deletable": true,
    "editable": true
   },
   "outputs": [],
   "source": [
    "from pprint import pprint\n",
    "\n",
    "# fields that are defined in the on-disk data file\n",
    "pprint(ds.field_list)"
   ]
  },
  {
   "cell_type": "markdown",
   "metadata": {
    "deletable": true,
    "editable": true,
    "slideshow": {
     "slide_type": "slide"
    }
   },
   "source": [
    "## Data objects can be queried for many fields"
   ]
  },
  {
   "cell_type": "code",
   "execution_count": null,
   "metadata": {
    "collapsed": false,
    "deletable": true,
    "editable": true,
    "slideshow": {
     "slide_type": "-"
    }
   },
   "outputs": [],
   "source": [
    "# fields that yt can calculate given the fields in ds.field_list\n",
    "# (only showing gas fields to fit on one screen)\n",
    "pprint([f for f in ds.derived_field_list if f[0]=='gas'][:20])"
   ]
  },
  {
   "cell_type": "markdown",
   "metadata": {
    "deletable": true,
    "editable": true,
    "slideshow": {
     "slide_type": "slide"
    }
   },
   "source": [
    "## Particle fields"
   ]
  },
  {
   "cell_type": "code",
   "execution_count": null,
   "metadata": {
    "collapsed": false,
    "deletable": true,
    "editable": true
   },
   "outputs": [],
   "source": [
    "pprint([f for f in ds.field_list if f[0]=='io'])"
   ]
  },
  {
   "cell_type": "code",
   "execution_count": null,
   "metadata": {
    "collapsed": false,
    "deletable": true,
    "editable": true,
    "slideshow": {
     "slide_type": "slide"
    }
   },
   "outputs": [],
   "source": [
    "ad = ds.all_data()\n",
    "\n",
    "print(ad['io', 'particle_position'])\n",
    "print(ad['io', 'particle_mass'])"
   ]
  },
  {
   "cell_type": "markdown",
   "metadata": {
    "deletable": true,
    "editable": true,
    "slideshow": {
     "slide_type": "slide"
    }
   },
   "source": [
    "## Derived Fields: create new fields by defining a python function"
   ]
  },
  {
   "cell_type": "code",
   "execution_count": null,
   "metadata": {
    "collapsed": false,
    "deletable": true,
    "editable": true
   },
   "outputs": [],
   "source": [
    "from yt.units import kboltz, mh\n",
    "\n",
    "def my_entropy(field, data):\n",
    "    return (kboltz * data['temperature'] / data['number_density']**(2./3.))\n",
    "\n",
    "ds.add_field('entropy', function=my_entropy, units=\"keV*cm**2\")"
   ]
  },
  {
   "cell_type": "markdown",
   "metadata": {
    "deletable": true,
    "editable": true,
    "slideshow": {
     "slide_type": "slide"
    }
   },
   "source": [
    "## Derived Fields: create new fields by defining a python function"
   ]
  },
  {
   "cell_type": "markdown",
   "metadata": {
    "deletable": true,
    "editable": true,
    "slideshow": {
     "slide_type": "-"
    }
   },
   "source": [
    "<img src=\"images/unrolled_entropy.png\", width=800px>"
   ]
  },
  {
   "cell_type": "code",
   "execution_count": null,
   "metadata": {
    "collapsed": false,
    "deletable": true,
    "editable": true,
    "slideshow": {
     "slide_type": "fragment"
    }
   },
   "outputs": [],
   "source": [
    "sp['entropy']"
   ]
  },
  {
   "cell_type": "markdown",
   "metadata": {
    "deletable": true,
    "editable": true,
    "slideshow": {
     "slide_type": "slide"
    }
   },
   "source": [
    "## yt employs a field \"democracy\"\n",
    "\n",
    "* Fields on-disk and derived fields are treated in exactly the same way\n",
    "* Accessed the same way, visualized the same way\n",
    "* On-disk fields are mapped to a set of common fields, to faciliate using the same scripts across different datasets"
   ]
  },
  {
   "cell_type": "code",
   "execution_count": null,
   "metadata": {
    "collapsed": false,
    "deletable": true,
    "editable": true
   },
   "outputs": [],
   "source": [
    "print(sp[\"gas\",\"density\"])"
   ]
  },
  {
   "cell_type": "code",
   "execution_count": null,
   "metadata": {
    "collapsed": false,
    "deletable": true,
    "editable": true,
    "slideshow": {
     "slide_type": "fragment"
    }
   },
   "outputs": [],
   "source": [
    "print(sp[\"enzo\",\"Density\"]) # These are the same field, just aliased"
   ]
  },
  {
   "cell_type": "code",
   "execution_count": null,
   "metadata": {
    "collapsed": false,
    "deletable": true,
    "editable": true,
    "slideshow": {
     "slide_type": "fragment"
    }
   },
   "outputs": [],
   "source": [
    "print(sp[\"enzo\",\"Density\"].in_cgs())"
   ]
  },
  {
   "cell_type": "markdown",
   "metadata": {
    "deletable": true,
    "editable": true,
    "slideshow": {
     "slide_type": "slide"
    }
   },
   "source": [
    "# Units"
   ]
  },
  {
   "cell_type": "markdown",
   "metadata": {
    "deletable": true,
    "editable": true,
    "slideshow": {
     "slide_type": "slide"
    }
   },
   "source": [
    "## We've already seen how data objects return fields as unit-aware NumPy arrays\n",
    "\n",
    "<img src=\"images/unrolled_pressure.png\", width=80%>"
   ]
  },
  {
   "cell_type": "code",
   "execution_count": null,
   "metadata": {
    "collapsed": false,
    "deletable": true,
    "editable": true,
    "slideshow": {
     "slide_type": "fragment"
    }
   },
   "outputs": [],
   "source": [
    "pressure = sp['density']*sp['temperature']*kboltz/(0.6*mh)\n",
    "\n",
    "pressure.in_units('Pa')"
   ]
  },
  {
   "cell_type": "code",
   "execution_count": null,
   "metadata": {
    "collapsed": false,
    "deletable": true,
    "editable": true,
    "slideshow": {
     "slide_type": "fragment"
    }
   },
   "outputs": [],
   "source": [
    "pressure.in_units('dyne/cm**2')"
   ]
  },
  {
   "cell_type": "markdown",
   "metadata": {
    "deletable": true,
    "editable": true,
    "slideshow": {
     "slide_type": "slide"
    }
   },
   "source": [
    "# NumPy-like Operations"
   ]
  },
  {
   "cell_type": "markdown",
   "metadata": {
    "deletable": true,
    "editable": true,
    "slideshow": {
     "slide_type": "slide"
    }
   },
   "source": [
    "## NumPy-like operations turn fields into single values\n",
    "\n",
    "<img src=\"images/unrolled_cell_mass.png\">"
   ]
  },
  {
   "cell_type": "code",
   "execution_count": null,
   "metadata": {
    "collapsed": false,
    "deletable": true,
    "editable": true
   },
   "outputs": [],
   "source": [
    "sp['cell_mass']"
   ]
  },
  {
   "cell_type": "markdown",
   "metadata": {
    "deletable": true,
    "editable": true,
    "slideshow": {
     "slide_type": "slide"
    }
   },
   "source": [
    "## Derived quantities turn fields into single values\n",
    "\n",
    "<img src=\"images/summed_cell_mass.png\", width=650px>\n",
    "\n",
    "\\begin{equation}\n",
    "M = \\sum_i m_i\n",
    "\\end{equation}"
   ]
  },
  {
   "cell_type": "code",
   "execution_count": null,
   "metadata": {
    "collapsed": false,
    "deletable": true,
    "editable": true
   },
   "outputs": [],
   "source": [
    "sp.sum('cell_mass')"
   ]
  },
  {
   "cell_type": "code",
   "execution_count": null,
   "metadata": {
    "collapsed": false,
    "deletable": true,
    "editable": true,
    "slideshow": {
     "slide_type": "fragment"
    }
   },
   "outputs": [],
   "source": [
    "print(sp.mean(\"density\"))\n",
    "print(sp.mean(\"temperature\", weight=\"density\"))"
   ]
  },
  {
   "cell_type": "code",
   "execution_count": null,
   "metadata": {
    "collapsed": false,
    "deletable": true,
    "editable": true,
    "slideshow": {
     "slide_type": "fragment"
    }
   },
   "outputs": [],
   "source": [
    "sp.argmax(\"temperature\")"
   ]
  },
  {
   "cell_type": "code",
   "execution_count": null,
   "metadata": {
    "collapsed": false,
    "deletable": true,
    "editable": true,
    "slideshow": {
     "slide_type": "fragment"
    }
   },
   "outputs": [],
   "source": [
    "sp.argmax(\"temperature\", axis=[\"density\", \"velocity_magnitude\"])"
   ]
  },
  {
   "cell_type": "markdown",
   "metadata": {
    "deletable": true,
    "editable": true,
    "slideshow": {
     "slide_type": "slide"
    }
   },
   "source": [
    "# Visualization and analysis\n",
    "* SlicePlot, ProjectionPlot, ParticleProjectionPlot\n",
    "* ProfilePlot, PhasePlot\n",
    "* Slices, projections, profiles, covering grids, and fixed resolution buffers\n"
   ]
  },
  {
   "cell_type": "markdown",
   "metadata": {
    "deletable": true,
    "editable": true,
    "slideshow": {
     "slide_type": "slide"
    }
   },
   "source": [
    "## SlicePlot"
   ]
  },
  {
   "cell_type": "code",
   "execution_count": null,
   "metadata": {
    "collapsed": false,
    "deletable": true,
    "editable": true
   },
   "outputs": [],
   "source": [
    "from yt import SlicePlot\n",
    "units_override = {\"length_unit\": (1.0, \"kpc\"), \"mass_unit\": (1.0e14, \"Msun\"), \"time_unit\": (1.0, \"Myr\")}\n",
    "ds2 = yt.load(\"AM06/AM06.out1.00500.athdf\", units_override=units_override)\n",
    "slc = SlicePlot(ds2, 'z', ('gas', 'temperature'), center='c', width=(1.5, \"Mpc\"))"
   ]
  },
  {
   "cell_type": "code",
   "execution_count": null,
   "metadata": {
    "collapsed": false,
    "deletable": true,
    "editable": true,
    "slideshow": {
     "slide_type": "slide"
    }
   },
   "outputs": [],
   "source": [
    "slc.show()"
   ]
  },
  {
   "cell_type": "markdown",
   "metadata": {
    "deletable": true,
    "editable": true,
    "slideshow": {
     "slide_type": "slide"
    }
   },
   "source": [
    "### Plot callbacks"
   ]
  },
  {
   "cell_type": "code",
   "execution_count": null,
   "metadata": {
    "collapsed": false,
    "deletable": true,
    "editable": true,
    "slideshow": {
     "slide_type": "slide"
    }
   },
   "outputs": [],
   "source": [
    "slc.set_cmap('temperature', 'algae')"
   ]
  },
  {
   "cell_type": "code",
   "execution_count": null,
   "metadata": {
    "collapsed": false,
    "deletable": true,
    "editable": true,
    "slideshow": {
     "slide_type": "slide"
    }
   },
   "outputs": [],
   "source": [
    "slc.annotate_grids()"
   ]
  },
  {
   "cell_type": "code",
   "execution_count": null,
   "metadata": {
    "collapsed": false,
    "deletable": true,
    "editable": true,
    "slideshow": {
     "slide_type": "slide"
    }
   },
   "outputs": [],
   "source": [
    "slc.annotate_velocity()"
   ]
  },
  {
   "cell_type": "code",
   "execution_count": null,
   "metadata": {
    "collapsed": false,
    "deletable": true,
    "editable": true,
    "slideshow": {
     "slide_type": "slide"
    }
   },
   "outputs": [],
   "source": [
    "slc.annotate_clear()\n",
    "slc.annotate_streamlines('magnetic_field_x', 'magnetic_field_y')"
   ]
  },
  {
   "cell_type": "code",
   "execution_count": null,
   "metadata": {
    "collapsed": false,
    "deletable": true,
    "editable": true,
    "slideshow": {
     "slide_type": "-"
    }
   },
   "outputs": [],
   "source": [
    "slc.annotate_clear()\n",
    "slc.annotate_line_integral_convolution('magnetic_field_x', 'magnetic_field_y')"
   ]
  },
  {
   "cell_type": "markdown",
   "metadata": {
    "deletable": true,
    "editable": true,
    "slideshow": {
     "slide_type": "slide"
    }
   },
   "source": [
    "## ProjectionPlot"
   ]
  },
  {
   "cell_type": "code",
   "execution_count": null,
   "metadata": {
    "collapsed": false,
    "deletable": true,
    "editable": true,
    "scrolled": true
   },
   "outputs": [],
   "source": [
    "from yt import ProjectionPlot\n",
    "\n",
    "prj = ProjectionPlot(ds, \"y\", 'density', center=\"max\")"
   ]
  },
  {
   "cell_type": "code",
   "execution_count": null,
   "metadata": {
    "collapsed": false,
    "deletable": true,
    "editable": true,
    "slideshow": {
     "slide_type": "slide"
    }
   },
   "outputs": [],
   "source": [
    "prj"
   ]
  },
  {
   "cell_type": "code",
   "execution_count": null,
   "metadata": {
    "collapsed": false,
    "deletable": true,
    "editable": true,
    "slideshow": {
     "slide_type": "slide"
    }
   },
   "outputs": [],
   "source": [
    "prj.zoom(4)"
   ]
  },
  {
   "cell_type": "code",
   "execution_count": null,
   "metadata": {
    "collapsed": false,
    "deletable": true,
    "editable": true,
    "scrolled": true,
    "slideshow": {
     "slide_type": "slide"
    }
   },
   "outputs": [],
   "source": [
    "sp = ds.sphere(\"max\", (10.0, 'Mpc'))\n",
    "\n",
    "prj = ProjectionPlot(ds, \"y\", 'density', data_source=sp, center='max')"
   ]
  },
  {
   "cell_type": "code",
   "execution_count": null,
   "metadata": {
    "collapsed": false,
    "deletable": true,
    "editable": true,
    "slideshow": {
     "slide_type": "slide"
    }
   },
   "outputs": [],
   "source": [
    "prj"
   ]
  },
  {
   "cell_type": "code",
   "execution_count": null,
   "metadata": {
    "collapsed": false,
    "deletable": true,
    "editable": true,
    "slideshow": {
     "slide_type": "slide"
    }
   },
   "outputs": [],
   "source": [
    "ProjectionPlot(ds2, 2, 'kT', weight_field='density', width=(1.5, 'Mpc'))"
   ]
  },
  {
   "cell_type": "markdown",
   "metadata": {
    "deletable": true,
    "editable": true,
    "slideshow": {
     "slide_type": "slide"
    }
   },
   "source": [
    "###  PhasePlot and ProfilePlot"
   ]
  },
  {
   "cell_type": "code",
   "execution_count": null,
   "metadata": {
    "collapsed": false,
    "deletable": true,
    "editable": true
   },
   "outputs": [],
   "source": [
    "from yt import PhasePlot, ProfilePlot\n",
    "PhasePlot(ds.all_data(), 'density', 'temperature', 'cell_mass', \n",
    "          weight_field=None, fractional=True)"
   ]
  },
  {
   "cell_type": "code",
   "execution_count": null,
   "metadata": {
    "collapsed": false,
    "slideshow": {
     "slide_type": "slide"
    }
   },
   "outputs": [],
   "source": [
    "ProfilePlot(sp, \"density\", \"temperature\", n_bins=64)"
   ]
  },
  {
   "cell_type": "markdown",
   "metadata": {
    "deletable": true,
    "editable": true,
    "slideshow": {
     "slide_type": "slide"
    }
   },
   "source": [
    "## Community\n",
    "\n",
    "<img src=\"images/community.png\", width='50%'>\n",
    "\n",
    "* Over 20,000 changesets since 2007 by over 100 unique contributors\n",
    "* 350 subscribers to users mailing list, 120 subscribers to developer mailing list\n",
    "* Funding for aspects of yt development comes from the NSF, NASA, and the Gordon and Betty Moore Foundation"
   ]
  },
  {
   "cell_type": "markdown",
   "metadata": {
    "deletable": true,
    "editable": true,
    "slideshow": {
     "slide_type": "slide"
    }
   },
   "source": [
    "## Getting involved and asking for help\n",
    "\n",
    "Documentation: http://yt-project.org/doc\n",
    "\n",
    "Users mailing list: http://lists.spacepope.org/listinfo.cgi/yt-users-spacepope.org\n",
    "\n",
    "Developer mailing list: http://lists.spacepope.org/listinfo.cgi/yt-dev-spacepope.org\n",
    "\n",
    "Developer guide: http://yt-project.org/docs/dev/developing/index.html\n",
    "\n",
    "Slack Channel: https://yt-project.slack.com\n",
    "\n",
    "IRC Channel: http://yt-project.org/irc.html (or #yt on freenode with your favorite IRC client)"
   ]
  }
 ],
 "metadata": {
  "celltoolbar": "Slideshow",
  "kernelspec": {
   "display_name": "Python 3",
   "language": "python",
   "name": "python3"
  },
  "language_info": {
   "codemirror_mode": {
    "name": "ipython",
    "version": 3
   },
   "file_extension": ".py",
   "mimetype": "text/x-python",
   "name": "python",
   "nbconvert_exporter": "python",
   "pygments_lexer": "ipython3",
   "version": "3.6.0"
  }
 },
 "nbformat": 4,
 "nbformat_minor": 0
}
