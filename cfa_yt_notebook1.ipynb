{
 "cells": [
  {
   "cell_type": "markdown",
   "metadata": {
    "deletable": true,
    "editable": true
   },
   "source": [
    "# Datasets and Data Objects"
   ]
  },
  {
   "cell_type": "markdown",
   "metadata": {
    "deletable": true,
    "editable": true
   },
   "source": [
    "## Datasets"
   ]
  },
  {
   "cell_type": "markdown",
   "metadata": {
    "deletable": true,
    "editable": true
   },
   "source": [
    "First, import yt. Simple enough. "
   ]
  },
  {
   "cell_type": "code",
   "execution_count": 2,
   "metadata": {
    "collapsed": true,
    "deletable": true,
    "editable": true
   },
   "outputs": [],
   "source": [
    "import yt"
   ]
  },
  {
   "cell_type": "markdown",
   "metadata": {
    "deletable": true,
    "editable": true
   },
   "source": [
    "We can use the `load` function to load up one of our sample datasets. Let's load up the `IsolatedGalaxy` dataset:"
   ]
  },
  {
   "cell_type": "code",
   "execution_count": 3,
   "metadata": {
    "collapsed": false,
    "deletable": true,
    "editable": true
   },
   "outputs": [
    {
     "name": "stderr",
     "output_type": "stream",
     "text": [
      "yt : [INFO     ] 2017-03-02 15:05:40,838 Parameters: current_time              = 0.0060000200028298\n",
      "yt : [INFO     ] 2017-03-02 15:05:40,840 Parameters: domain_dimensions         = [32 32 32]\n",
      "yt : [INFO     ] 2017-03-02 15:05:40,842 Parameters: domain_left_edge          = [ 0.  0.  0.]\n",
      "yt : [INFO     ] 2017-03-02 15:05:40,843 Parameters: domain_right_edge         = [ 1.  1.  1.]\n",
      "yt : [INFO     ] 2017-03-02 15:05:40,845 Parameters: cosmological_simulation   = 0.0\n"
     ]
    }
   ],
   "source": [
    "ds = yt.load('IsolatedGalaxy/galaxy0030/galaxy0030')"
   ]
  },
  {
   "cell_type": "markdown",
   "metadata": {
    "deletable": true,
    "editable": true
   },
   "source": [
    "We can see that when we loaded the dataset, it parsed some parameters and informed us of what they were. We are interested in what kinds of \"fields\" are in the dataset. We can list them using `ds.field_list`:"
   ]
  },
  {
   "cell_type": "code",
   "execution_count": null,
   "metadata": {
    "collapsed": false,
    "deletable": true,
    "editable": true
   },
   "outputs": [],
   "source": [
    "ds.field_list"
   ]
  },
  {
   "cell_type": "markdown",
   "metadata": {
    "deletable": true,
    "editable": true
   },
   "source": [
    "We also mentioned \"derived\" fields earlier. We can see which derived fields are available using `ds.derived_field_list`:"
   ]
  },
  {
   "cell_type": "code",
   "execution_count": null,
   "metadata": {
    "collapsed": false,
    "deletable": true,
    "editable": true,
    "scrolled": false
   },
   "outputs": [],
   "source": [
    "ds.derived_field_list"
   ]
  },
  {
   "cell_type": "markdown",
   "metadata": {
    "deletable": true,
    "editable": true
   },
   "source": [
    "Notice that the fields that are in the dataset are part of the derived field list as well--reflecting yt's philosophy on fields."
   ]
  },
  {
   "cell_type": "markdown",
   "metadata": {
    "deletable": true,
    "editable": true
   },
   "source": [
    "Let's now get some basic stats on this dataset, which is a grid-based Enzo dataset. We can do that with the `ds.print_stats()` method:"
   ]
  },
  {
   "cell_type": "code",
   "execution_count": null,
   "metadata": {
    "collapsed": false,
    "deletable": true,
    "editable": true
   },
   "outputs": [],
   "source": [
    "ds.print_stats()"
   ]
  },
  {
   "cell_type": "markdown",
   "metadata": {
    "deletable": true,
    "editable": true
   },
   "source": [
    "Let's also look at some basic properties associated with this dataset: "
   ]
  },
  {
   "cell_type": "code",
   "execution_count": null,
   "metadata": {
    "collapsed": false,
    "deletable": true,
    "editable": true
   },
   "outputs": [],
   "source": [
    "print(ds.domain_left_edge)\n",
    "print(ds.domain_right_edge)\n",
    "print(ds.domain_width)\n",
    "print(ds.current_time)"
   ]
  },
  {
   "cell_type": "markdown",
   "metadata": {
    "deletable": true,
    "editable": true
   },
   "source": [
    "These are \"code\" units, which are the default units of the dataset. We'd probably like to see what the units are in terms of something more \"physical\". We can use the `in_units()` method for that:"
   ]
  },
  {
   "cell_type": "code",
   "execution_count": null,
   "metadata": {
    "collapsed": false,
    "deletable": true,
    "editable": true
   },
   "outputs": [],
   "source": [
    "print(ds.domain_left_edge.in_units(\"Mpc\"))\n",
    "print(ds.domain_right_edge.in_units(\"Mpc\"))\n",
    "print(ds.domain_width.in_units(\"Mpc\"))\n",
    "print(ds.current_time.in_units(\"Myr\"))"
   ]
  },
  {
   "cell_type": "markdown",
   "metadata": {
    "deletable": true,
    "editable": true
   },
   "source": [
    "We'll spend more time with yt's unit system later. "
   ]
  },
  {
   "cell_type": "markdown",
   "metadata": {
    "deletable": true,
    "editable": true
   },
   "source": [
    "## Data Objects"
   ]
  },
  {
   "cell_type": "markdown",
   "metadata": {
    "deletable": true,
    "editable": true
   },
   "source": [
    "Data objects in yt are geometrical shapes or other collections of points/cells that can be created and then used to analyze the properties of the fields within them. "
   ]
  },
  {
   "cell_type": "markdown",
   "metadata": {
    "deletable": true,
    "editable": true
   },
   "source": [
    "### Spheres"
   ]
  },
  {
   "cell_type": "markdown",
   "metadata": {
    "deletable": true,
    "editable": true
   },
   "source": [
    "Spheres, of course, are defined by a center and a radius. We can create spheres off of the dataset using the `ds.sphere()` method:"
   ]
  },
  {
   "cell_type": "code",
   "execution_count": null,
   "metadata": {
    "collapsed": false,
    "deletable": true,
    "editable": true
   },
   "outputs": [],
   "source": [
    "sp1 = ds.sphere(\"max\", (10.0, \"kpc\"))"
   ]
  },
  {
   "cell_type": "code",
   "execution_count": null,
   "metadata": {
    "collapsed": true,
    "deletable": true,
    "editable": true
   },
   "outputs": [],
   "source": [
    "sp2 = ds.sphere(ds.domain_center, 0.25) # if radius is given without units, assumed to be \"code\" units"
   ]
  },
  {
   "cell_type": "markdown",
   "metadata": {
    "deletable": true,
    "editable": true
   },
   "source": [
    "We can look up fields in the sphere in a dict-like fashion:"
   ]
  },
  {
   "cell_type": "code",
   "execution_count": null,
   "metadata": {
    "collapsed": false,
    "deletable": true,
    "editable": true
   },
   "outputs": [],
   "source": [
    "sp2[\"density\"]"
   ]
  },
  {
   "cell_type": "code",
   "execution_count": null,
   "metadata": {
    "collapsed": false,
    "deletable": true,
    "editable": true
   },
   "outputs": [],
   "source": [
    "sp2[\"velocity_magnitude\"]"
   ]
  },
  {
   "cell_type": "markdown",
   "metadata": {
    "deletable": true,
    "editable": true
   },
   "source": [
    "### Rectangular Regions"
   ]
  },
  {
   "cell_type": "markdown",
   "metadata": {
    "deletable": true,
    "editable": true
   },
   "source": [
    "Rectangular-shaped regions can be constructed in a couple of different ways in yt. I will be describing the \"new\" way to do it, which is elegant and similar to the way that NumPy arrays work. This uses the `ds.r` syntax. Creating a rectangular region containing all the data is easy:"
   ]
  },
  {
   "cell_type": "code",
   "execution_count": null,
   "metadata": {
    "collapsed": true,
    "deletable": true,
    "editable": true
   },
   "outputs": [],
   "source": [
    "dd = ds.r[:,:,:]"
   ]
  },
  {
   "cell_type": "markdown",
   "metadata": {
    "deletable": true,
    "editable": true
   },
   "source": [
    "We can use NumPy-like slicing to make a subset of the domain:"
   ]
  },
  {
   "cell_type": "code",
   "execution_count": null,
   "metadata": {
    "collapsed": true,
    "deletable": true,
    "editable": true
   },
   "outputs": [],
   "source": [
    "reg1 = ds.r[0.4:0.6,0.1:0.3,0.35:0.75] # no units indicate code units"
   ]
  },
  {
   "cell_type": "markdown",
   "metadata": {
    "deletable": true,
    "editable": true
   },
   "source": [
    "We can also use unitful numbers to construct the slices:"
   ]
  },
  {
   "cell_type": "code",
   "execution_count": null,
   "metadata": {
    "collapsed": true,
    "deletable": true,
    "editable": true
   },
   "outputs": [],
   "source": [
    "# subset of the domain using a left and right edge\n",
    "reg2 = ds.r[(490.0, \"kpc\"):(510.0, \"kpc\"),\n",
    "            (490.0, \"kpc\"):(510.0, \"kpc\"),\n",
    "            (490.0, \"kpc\"):(510.0, \"kpc\")]"
   ]
  },
  {
   "cell_type": "markdown",
   "metadata": {
    "deletable": true,
    "editable": true
   },
   "source": [
    "We can access the data of the region in the same way as the sphere (showing only some of the array for brevity):"
   ]
  },
  {
   "cell_type": "code",
   "execution_count": null,
   "metadata": {
    "collapsed": false,
    "deletable": true,
    "editable": true
   },
   "outputs": [],
   "source": [
    "reg2[\"velocity_x\"][20:40]"
   ]
  },
  {
   "cell_type": "markdown",
   "metadata": {
    "deletable": true,
    "editable": true
   },
   "source": [
    "So far these rectangular regions have been 1-D arrays of cells (which could be from an adaptive mesh or octree). We can use the same NumPy-like syntax to interpolate onto a 3-D grid:"
   ]
  },
  {
   "cell_type": "code",
   "execution_count": null,
   "metadata": {
    "collapsed": true,
    "deletable": true,
    "editable": true
   },
   "outputs": [],
   "source": [
    "# subset of the domain using a left and right edge\n",
    "reg3 = ds.r[(450.0, \"kpc\"):(550.0, \"kpc\"):128j,\n",
    "            (450.0, \"kpc\"):(550.0, \"kpc\"):128j,\n",
    "            (450.0, \"kpc\"):(550.0, \"kpc\"):128j]"
   ]
  },
  {
   "cell_type": "code",
   "execution_count": null,
   "metadata": {
    "collapsed": false,
    "deletable": true,
    "editable": true
   },
   "outputs": [],
   "source": [
    "print(reg3[\"velocity_x\"].shape)\n",
    "print(reg3[\"velocity_x\"][:,:,64])"
   ]
  },
  {
   "cell_type": "markdown",
   "metadata": {
    "deletable": true,
    "editable": true
   },
   "source": [
    "### Other Data Objects"
   ]
  },
  {
   "cell_type": "markdown",
   "metadata": {
    "deletable": true,
    "editable": true
   },
   "source": [
    "There are a number of other data objects in yt that one can use:\n",
    "\n",
    "* 0-dimensional points\n",
    "* 1-dimensional rays\n",
    "* 2-dimensional slices and projections, which we'll discuss later\n",
    "* 3-dimensional cylinders"
   ]
  },
  {
   "cell_type": "markdown",
   "metadata": {
    "deletable": true,
    "editable": true
   },
   "source": [
    "### Derived Quantities"
   ]
  },
  {
   "cell_type": "markdown",
   "metadata": {
    "deletable": true,
    "editable": true
   },
   "source": [
    "We can create useful derived quantities from data objects, which are reduction operations to yield useful scalars or  Again, there's a \"new\" way to do this in yt and an old way. I'm going to emphasize the new way where I am able, but there are a few examples where I'll have to use the old way. The new way again is more NumPy-like, where we can perform a number of reduction operations on fields:"
   ]
  },
  {
   "cell_type": "markdown",
   "metadata": {
    "deletable": true,
    "editable": true
   },
   "source": [
    "#### Summation, Mean, and Standard Deviation"
   ]
  },
  {
   "cell_type": "code",
   "execution_count": null,
   "metadata": {
    "collapsed": false,
    "deletable": true,
    "editable": true
   },
   "outputs": [],
   "source": [
    "# Taking the sum of a quantity, in this case the cell mass\n",
    "sp1.sum(\"cell_mass\")"
   ]
  },
  {
   "cell_type": "code",
   "execution_count": null,
   "metadata": {
    "collapsed": false,
    "deletable": true,
    "editable": true
   },
   "outputs": [],
   "source": [
    "# Taking the mean of a quantity, in this case the density\n",
    "sp1.mean(\"density\")"
   ]
  },
  {
   "cell_type": "code",
   "execution_count": null,
   "metadata": {
    "collapsed": false,
    "deletable": true,
    "editable": true
   },
   "outputs": [],
   "source": [
    "# Taking the weighted mean of a quantity, in this case the temperature weighted by the density\n",
    "sp1.mean(\"temperature\", weight=\"density\")"
   ]
  },
  {
   "cell_type": "code",
   "execution_count": null,
   "metadata": {
    "collapsed": false,
    "deletable": true,
    "editable": true
   },
   "outputs": [],
   "source": [
    "# Taking the standard deviation of a quantity\n",
    "sp1.std(\"temperature\", weight=\"density\")"
   ]
  },
  {
   "cell_type": "markdown",
   "metadata": {
    "deletable": true,
    "editable": true
   },
   "source": [
    "#### Maximum and Minimum"
   ]
  },
  {
   "cell_type": "code",
   "execution_count": null,
   "metadata": {
    "collapsed": false,
    "deletable": true,
    "editable": true
   },
   "outputs": [],
   "source": [
    "# Find the maximum and the minimum\n",
    "print(sp1.max(\"density\"))\n",
    "print(sp1.min(\"density\"))"
   ]
  },
  {
   "cell_type": "code",
   "execution_count": null,
   "metadata": {
    "collapsed": false,
    "deletable": true,
    "editable": true
   },
   "outputs": [],
   "source": [
    "# Difference between max and min\n",
    "sp1.ptp(\"velocity_x\")"
   ]
  },
  {
   "cell_type": "code",
   "execution_count": null,
   "metadata": {
    "collapsed": false,
    "deletable": true,
    "editable": true
   },
   "outputs": [],
   "source": [
    "# Maximum and minimum location\n",
    "print(sp1.argmax(\"velocity_magnitude\"))\n",
    "print(sp1.argmin(\"velocity_magnitude\"))"
   ]
  },
  {
   "cell_type": "markdown",
   "metadata": {
    "deletable": true,
    "editable": true
   },
   "source": [
    "However, you can do something even cooler with `argmin` and `argmax`: you can have it return the values of fields at this location instead of the location itself:"
   ]
  },
  {
   "cell_type": "code",
   "execution_count": null,
   "metadata": {
    "collapsed": false,
    "deletable": true,
    "editable": true
   },
   "outputs": [],
   "source": [
    "sp1.argmax(\"velocity_magnitude\", axis=[\"density\", \"temperature\"])"
   ]
  },
  {
   "cell_type": "markdown",
   "metadata": {
    "deletable": true,
    "editable": true
   },
   "source": [
    "There are other NumPy-like operations that we'll discuss later, in the context of slices, projections, and profiles."
   ]
  },
  {
   "cell_type": "markdown",
   "metadata": {
    "deletable": true,
    "editable": true
   },
   "source": [
    "#### Other Derived Quantities"
   ]
  },
  {
   "cell_type": "markdown",
   "metadata": {
    "deletable": true,
    "editable": true
   },
   "source": [
    "yt has a number of other derived quantities without obvious NumPy-like analogues, but are relevant from the perspective of physics. These can be accessed using the `quantities` attribute of the data object (this is the old way of calculating derived quantities):"
   ]
  },
  {
   "cell_type": "code",
   "execution_count": null,
   "metadata": {
    "collapsed": false,
    "deletable": true,
    "editable": true
   },
   "outputs": [],
   "source": [
    "# Calculating the angular momentum vector of an object\n",
    "sp1.quantities.angular_momentum_vector()"
   ]
  },
  {
   "cell_type": "code",
   "execution_count": null,
   "metadata": {
    "collapsed": false,
    "deletable": true,
    "editable": true
   },
   "outputs": [],
   "source": [
    "# Calculating the center of mass of an object\n",
    "sp1.quantities.center_of_mass()"
   ]
  },
  {
   "cell_type": "code",
   "execution_count": null,
   "metadata": {
    "collapsed": false,
    "deletable": true,
    "editable": true
   },
   "outputs": [],
   "source": [
    "# Finding the bulk velocity of an object\n",
    "sp1.quantities.bulk_velocity()"
   ]
  },
  {
   "cell_type": "markdown",
   "metadata": {},
   "source": [
    "## Slicing, Projecting, and Profiling"
   ]
  },
  {
   "cell_type": "markdown",
   "metadata": {},
   "source": [
    "Using data objects, one can make more sophisticated reductions and selections of the data. For example, you can probably deduce from the NumPy-like syntax of `ds.r` that you can take a 2D slice:"
   ]
  },
  {
   "cell_type": "code",
   "execution_count": 7,
   "metadata": {
    "collapsed": false
   },
   "outputs": [],
   "source": [
    "slc = ds.r[0.25:0.75,0.25:0.75,0.5] # Slicing along the middle of the dataset normal to the z-axis"
   ]
  },
  {
   "cell_type": "markdown",
   "metadata": {},
   "source": [
    "Which gives you a two-dimensional slice object. You can access the data in the slice in the same way as the other objects:"
   ]
  },
  {
   "cell_type": "code",
   "execution_count": 12,
   "metadata": {
    "collapsed": false
   },
   "outputs": [
    {
     "data": {
      "text/plain": [
       "YTArray([ 20310345.75621982,  20221320.30013241,  20115928.76502482, ...,\n",
       "       -21960437.92266347, -21643746.58688532, -21436839.62678548]) cm/s"
      ]
     },
     "execution_count": 12,
     "metadata": {},
     "output_type": "execute_result"
    }
   ],
   "source": [
    "slc[\"velocity_y\"]"
   ]
  },
  {
   "cell_type": "markdown",
   "metadata": {},
   "source": [
    "If you want to see a quick plot of a particular field, you can call the `slc.plot()` method and pass in the name of a field:"
   ]
  },
  {
   "cell_type": "code",
   "execution_count": 11,
   "metadata": {
    "collapsed": false,
    "scrolled": false
   },
   "outputs": [
    {
     "name": "stderr",
     "output_type": "stream",
     "text": [
      "yt : [INFO     ] 2017-03-02 15:06:42,354 xlim = 0.250000 0.750000\n",
      "yt : [INFO     ] 2017-03-02 15:06:42,356 ylim = 0.250000 0.750000\n",
      "yt : [INFO     ] 2017-03-02 15:06:42,358 Making a fixed resolution buffer of (density) 800 by 800\n",
      "yt : [INFO     ] 2017-03-02 15:06:42,366 Making a fixed resolution buffer of (('gas', 'density')) 800 by 800\n"
     ]
    },
    {
     "data": {
      "text/html": [
       "<img style=\"max-width:100%%;max-height:100%%;\" src=\"data:image/png;base64,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\"><br>"
      ],
      "text/plain": [
       "<yt.visualization.plot_window.PWViewerMPL at 0x10a28b860>"
      ]
     },
     "metadata": {},
     "output_type": "display_data"
    }
   ],
   "source": [
    "p = slc.plot(\"density\")"
   ]
  },
  {
   "cell_type": "markdown",
   "metadata": {},
   "source": [
    "We'll be discussing plotting more later on, so I will defer a more detailed discussion until later. "
   ]
  },
  {
   "cell_type": "code",
   "execution_count": null,
   "metadata": {
    "collapsed": true
   },
   "outputs": [],
   "source": []
  }
 ],
 "metadata": {
  "anaconda-cloud": {},
  "kernelspec": {
   "display_name": "Python 3",
   "language": "python",
   "name": "python3"
  },
  "language_info": {
   "codemirror_mode": {
    "name": "ipython",
    "version": 3
   },
   "file_extension": ".py",
   "mimetype": "text/x-python",
   "name": "python",
   "nbconvert_exporter": "python",
   "pygments_lexer": "ipython3",
   "version": "3.6.0"
  }
 },
 "nbformat": 4,
 "nbformat_minor": 1
}
